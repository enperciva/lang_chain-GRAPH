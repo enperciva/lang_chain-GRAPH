{
 "cells": [
  {
   "cell_type": "code",
   "execution_count": 24,
   "metadata": {},
   "outputs": [],
   "source": [
    "#===================================================================================\n",
    "# El siguiente ejercicio se trata de la implementacion de la clase PYNDANTIC para obtener \n",
    "# respuestas estructuradas de las solicitudes a los llms.\n",
    "#===================================================================================\n",
    "# Librerias del ambiente de entorno \n",
    "import os\n",
    "import warnings\n",
    "warnings.filterwarnings(\"ignore\")\n",
    "from dotenv import load_dotenv, find_dotenv \n",
    "\n",
    "load_dotenv()\n",
    "\n",
    "# Libreria de clases del modulo pydantic\n",
    "from pydantic import BaseModel, Field \n",
    "\n",
    "# Declaracion del llm\n",
    "# Libreria del modelo llm\n",
    "from langchain_google_genai import ChatGoogleGenerativeAI\n",
    "\n",
    "\n",
    "# Credenciales de api del llm de google \n",
    "os.environ[\"GOOGLE_API_KEY\"] = os.getenv(\"GEMINI_API_KEY\")"
   ]
  },
  {
   "cell_type": "code",
   "execution_count": 27,
   "metadata": {},
   "outputs": [],
   "source": [
    "llm =  ChatGoogleGenerativeAI (model=\"gemini-2.0-flash\", temperature=0) \n",
    "\n",
    "class Country (BaseModel): \n",
    "    \"\"\"Information about a country\"\"\" \n",
    "    name: str = Field(description=\"\") \n",
    "    language: str = Field(description=\"\") \n",
    "    capital: str = Field(description=\"\") "
   ]
  },
  {
   "cell_type": "code",
   "execution_count": 31,
   "metadata": {},
   "outputs": [
    {
     "name": "stdout",
     "output_type": "stream",
     "text": [
      "{\"name\":\"El Salvador\",\"language\":\"Spanish\",\"capital\":\"San Salvador\"}\n"
     ]
    }
   ],
   "source": [
    "structured_llm = llm.with_structured_output(Country) \n",
    "\n",
    "structured_llm = structured_llm.invoke(\"Hablame de el salvador\")\n",
    "\n",
    "print(structured_llm.model_dump_json())"
   ]
  }
 ],
 "metadata": {
  "kernelspec": {
   "display_name": "envage",
   "language": "python",
   "name": "python3"
  },
  "language_info": {
   "codemirror_mode": {
    "name": "ipython",
    "version": 3
   },
   "file_extension": ".py",
   "mimetype": "text/x-python",
   "name": "python",
   "nbconvert_exporter": "python",
   "pygments_lexer": "ipython3",
   "version": "3.11.11"
  }
 },
 "nbformat": 4,
 "nbformat_minor": 2
}
