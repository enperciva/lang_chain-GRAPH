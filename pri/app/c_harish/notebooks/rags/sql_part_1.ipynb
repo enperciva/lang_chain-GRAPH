{
  "cells": [
    {
      "cell_type": "code",
      "execution_count": 136,
      "metadata": {
        "id": "ZW-dIYH15cjJ"
      },
      "outputs": [],
      "source": [
        "import getpass\n",
        "import os\n",
        "\n",
        "\n",
        "def _set_env(var: str):\n",
        "    if not os.environ.get(var):\n",
        "        os.environ[var] = getpass.getpass(f\"{var}: \")\n",
        "\n",
        "\n",
        "_set_env(\"ANTHROPIC_API_KEY\")\n",
        "_set_env(\"TAVILY_API_KEY\")"
      ]
    },
    {
      "cell_type": "markdown",
      "metadata": {
        "id": "mS-6gjiv5p9w"
      },
      "source": [
        "## Base LLM"
      ]
    },
    {
      "cell_type": "code",
      "execution_count": 137,
      "metadata": {
        "id": "R2zoHyNqDDHs"
      },
      "outputs": [],
      "source": [
        "from langchain_anthropic import ChatAnthropic\n",
        "\n",
        "llm = ChatAnthropic(temperature=0, model=\"claude-3-5-sonnet-20240620\")"
      ]
    },
    {
      "cell_type": "markdown",
      "metadata": {
        "id": "26i--_JV4xQm"
      },
      "source": [
        "## Tavily Search Tool"
      ]
    },
    {
      "cell_type": "code",
      "execution_count": 147,
      "metadata": {
        "id": "H8qkiQdIkpSw"
      },
      "outputs": [],
      "source": [
        "tavily_search_tool = TavilySearchResults(\n",
        "    max_results=5,\n",
        "    include_answer=True,\n",
        "    include_raw_content=True,\n",
        "    include_images=True,\n",
        "    # search_depth=\"advanced\",\n",
        "    # include_domains = []\n",
        "    # exclude_domains = []\n",
        ")\n",
        "\n",
        "\n",
        "tools = [tavily_search_tool]"
      ]
    },
    {
      "cell_type": "code",
      "execution_count": 145,
      "metadata": {
        "colab": {
          "base_uri": "https://localhost:8080/"
        },
        "id": "m0wDEmLxrcdt",
        "outputId": "3f64ff07-366b-4d79-8db8-92ff6c4437d3"
      },
      "outputs": [
        {
          "data": {
            "text/plain": [
              "[{'url': 'https://apnews.com/sports',\n",
              "  'content': 'Tarasenko scores with 5 seconds remaining in the third to give Senators a 5-4 victory over Sharks\\nGaiter scores 25 points to lead South Alabama past Marshall 91-85\\nToussaint rallies Texas Tech over Kansas State 60-59 for 9th straight victory\\nWenzel, Kot lead Wyoming over Fresno State 68-67\\nTate scores 15 as Appalachian State knocks off James Madison 59-55\\nRiley Kugel scores 20 points, Florida routs Arkansas 90-68 to end 3-game skid against Razorbacks\\nUT Arlington wins 80-75 over Seattle\\nWoman with car stuck in snow gets help from Packers QB Jordan Love\\nTexas State defeats UL Monroe 67-54\\nBruner scores 26 and Denver defeats South Dakota State 99-80\\nOmot scores 30 to lead North Dakota to 82-69 victory over Kansas City\\nJohnson, Buchanan lead George Washington to 83-79 OT win over Davidson\\nFordham wins 80-74 over Saint Bonaventure\\nTalford scores 27 points as Winthrop knocks off Radford 92-88 in 3OT\\nWade Taylor IV scores 31 to lead Texas A&M to OT win over No. 6 Kentucky 97-92\\nFormer Memphis recruit Mikey Williams commits to UCF 6 weeks after plea deal in gun case\\nNo. 21 Sports\\nThe Chiefs-Dolphins wild-card playoff could approach an NFL record for coldest game\\nDeBoer embraces chance to replace Saban at Alabama, promises ex-coach ‘100 percent access’\\nSteelers-Bills playoff game moved to Monday amid forecast for dangerous winter weather\\nTumultuous week leaves Washington trying to rebuild after title game loss, coach departure\\nTexas gives coach Sarkisian a four-year contract extension after Big 12 title and CFP appearance\\nWhat’s your game?\\nCollege Football\\nAlabama receiver Isaiah Bond, who made fourth-and-31 Iron Bowl catch, enters transfer portal\\nKalen DeBoer hired to replace Nick Saban at Alabama, leaving national runner-up Washington\\nWashington duo of WR Rome Odunze and RB Dillon Johnson declare for NFL draft\\nCasey Thompson, former Texas, Nebraska and FAU QB, says he’ll transfer to Oklahoma\\nNFL\\nTitans interview Raiders interim coach Antonio Pierce for vacant head coaching job\\nEagles receiver A.J. Brown is out for wild-card game vs. Bucs with a knee injury\\nFalcons interview Ravens defensive coordinator Mike Macdonald for head coaching job\\nWorst-to-first Texans provide hope for the 18 NFL teams that didn’t make the playoffs this season\\nCollege Basketball\\nAli Khalifa scores 17 points as No. 18 BYU holds off UCF 63-58 for its first Big 12 win\\nZack Clemson snaps 3-game ACC skid with an 89-78 win over Boston College\\nJaelen House scores 26 points as New Mexico beats No. 19 San Diego State\\nSwope’s 24 lead Indiana State past Belmont 94-64\\nCharleston Southern takes down South Carolina Upstate 77-70\\nDerkack’s 19 lead Merrimack over Le Moyne 66-62\\nYoung’s 26 points, 11 rebounds help No. 25 UNLV beat Air Force 76-64, extend MWC win streak\\nDell’Orso scores 29, Campbell defeats Hofstra 69-68\\nStephney scores 15 as UNC Asheville defeats Longwood 65-61\\nCole’s 19 lead Oakland over IUPUI 88-66\\nButler scores 19 as Central Michigan knocks off Kent State 77-62\\nSpears scores 13, hits big buckets for Florida State in 67-58 win over Notre Dame\\nRhode Island wins 89-77 against UMass\\nReilly scores 23 as Sacred Heart takes down LIU 89-55\\nCopyright 2024 The Associated Press. Wembanyama has 26 points and 11 rebounds, Spurs spoil Ball’s return to Hornets\\nWomen’s Basketball\\nAudi Crooks and Hannah Belanger help Iowa State top No. 4 Baylor 66-63\\nCrooks, Belanger deliver for Iowa State women in 66-63 win over No. 4 Baylor\\nVonleh scores 19, No. 5 Colorado races past California 76-61 for 8th straight win\\nLed by freshman JuJu Watkins, No. 9 USC looks to end 9-game rivalry skid against No. 2 UCLA women\\nSoccer\\nPalestinian soccer team set for its first test at Asian Cup against three-time champion Iran\\nDe Bruyne inspires Man City comeback in Premier League return to show he can swing title race\\nSuárez’s training alongside Messi, Busquets and Alba with Inter Miami officially underway\\nHost nation Ivory Coast starts Africa Cup party with 2-0 win over Guinea-Bissau\\nGolf\\nOahu Musings: The debate over full fields and signature events. He’s already taking advantage of it at Sony Open\\nCam Davis handles the wind at Waialae for a 62 to lead Sony Open\\nSoccer player Stones, F1 driver Albon invest in team from Woods and McIlroy’s high-tech golf project\\nNHL\\nSam Lafferty scores and Thatcher Demko makes 26 saves as the Canucks blank the Sabres\\nGolden Knights star Jack Eichel to miss time with undisclosed injury\\nCapitals rally to beat Rangers 3-2, hand them a 4th consecutive loss\\nBlackhawks top defenseman Seth Jones set to return on Saturday\\nMore news\\nFalcons interview Bengals offensive coordinator Brian Callahan for head coaching job\\n'},\n",
              " {'url': 'https://www.nbcnews.com/sports',\n",
              "  'content': 'Get the latest sports news and inside scoop on your favorite teams, athletes, and stay up-to-date on game highlights. Get the latest news in sports from NBC News. IE 11 is not supported.'},\n",
              " {'url': 'https://www.cnn.com/sport',\n",
              "  'content': 'Latest sports news from around the world with in-depth analysis, features, photos and videos covering football, tennis, motorsport, golf, rugby, sailing, skiing, horse racing and equestrian.'},\n",
              " {'url': 'https://www.reuters.com/sports/',\n",
              "  'content': 'Find latest sports news from every corner of the globe at Reuters.com, your online source for breaking international news coverage.'},\n",
              " {'url': 'https://www.espn.com/espn/latestnews',\n",
              "  'content': '(November 18, 2024, 1:15 PM ET) (November 18, 2024, 12:56 PM ET) (November 17, 2024, 9:36 PM ET) (November 17, 2024, 7:58 PM ET) (November 16, 2024, 1:38 PM ET) (November 17, 2024, 8:32 PM ET) (November 18, 2024, 4:55 PM ET) College football recruiting intel: Latest buzz, QB visits (November 17, 2024, 2:38 PM ET) (November 17, 2024, 2:25 PM ET) (November 17, 2024, 1:30 PM ET) (November 17, 2024, 12:28 PM ET) Southeast Missouri State beats Western Illinois 54-45 in game featuring 1,152 total yards (November 16, 2024, 6:23 PM ET) (November 15, 2024, 3:49 PM ET) (November 18, 2024, 2:43 PM ET) (November 18, 2024, 12:23 PM ET)'}]"
            ]
          },
          "execution_count": 145,
          "metadata": {},
          "output_type": "execute_result"
        }
      ],
      "source": [
        "tavily_search_tool.invoke({\"query\": \"Any latest news in sports\"})"
      ]
    },
    {
      "cell_type": "markdown",
      "metadata": {
        "id": "2vdNfq8o5z6f"
      },
      "source": [
        "## Chain"
      ]
    },
    {
      "cell_type": "code",
      "execution_count": 148,
      "metadata": {
        "colab": {
          "base_uri": "https://localhost:8080/",
          "height": 251
        },
        "id": "Kwv81mbW56dd",
        "outputId": "91ad5625-bab9-4170-b799-cf5026a6c852"
      },
      "outputs": [
        {
          "data": {
            "image/png": "[encoded data removed]",
            "text/plain": [
              "<IPython.core.display.Image object>"
            ]
          },
          "metadata": {},
          "output_type": "display_data"
        }
      ],
      "source": [
        "from langgraph.graph import StateGraph, START, END\n",
        "from langgraph.graph import MessagesState\n",
        "from langgraph.prebuilt import tools_condition, ToolNode\n",
        "\n",
        "builder = StateGraph(MessagesState)\n",
        "\n",
        "llm_with_tools = llm.bind_tools(tools)\n",
        "\n",
        "def assistant(state: MessagesState):\n",
        "  return {'messages': llm_with_tools.invoke(state['messages'])}\n",
        "\n",
        "\n",
        "builder.add_node('assistant', assistant)\n",
        "\n",
        "builder.add_edge(START, 'assistant')\n",
        "builder.add_edge('assistant', END)\n",
        "\n",
        "graph = builder.compile()\n",
        "\n",
        "\n",
        "\n",
        "from IPython.display import Image, display\n",
        "\n",
        "try:\n",
        "    display(Image(graph.get_graph().draw_mermaid_png()))\n",
        "except Exception:\n",
        "    # This requires some extra dependencies and is optional\n",
        "    pass"
      ]
    },
    {
      "cell_type": "code",
      "execution_count": 149,
      "metadata": {
        "colab": {
          "base_uri": "https://localhost:8080/"
        },
        "id": "BtCJ9WHZ95rr",
        "outputId": "5a1e1237-03d7-45bb-8133-9d27257380cd"
      },
      "outputs": [
        {
          "name": "stdout",
          "output_type": "stream",
          "text": [
            "================================\u001b[1m Human Message \u001b[0m=================================\n",
            "\n",
            "hello\n",
            "==================================\u001b[1m Ai Message \u001b[0m==================================\n",
            "\n",
            "Hello! How can I assist you today? I'm here to help with any questions or tasks you might have. Is there anything specific you'd like to know or discuss?\n"
          ]
        }
      ],
      "source": [
        "from pprint import pprint\n",
        "\n",
        "result = graph.invoke({'messages': ['hello']})\n",
        "\n",
        "for m in result['messages']:\n",
        "  m.pretty_print()"
      ]
    },
    {
      "cell_type": "code",
      "execution_count": 150,
      "metadata": {
        "colab": {
          "base_uri": "https://localhost:8080/"
        },
        "id": "zrLvIzjF_4NG",
        "outputId": "7b09f522-0ec6-41c5-a510-c7d6c6424603"
      },
      "outputs": [
        {
          "name": "stdout",
          "output_type": "stream",
          "text": [
            "================================\u001b[1m Human Message \u001b[0m=================================\n",
            "\n",
            "Is it raining in bangalore?\n",
            "==================================\u001b[1m Ai Message \u001b[0m==================================\n",
            "\n",
            "[{'text': \"To answer your question about whether it's raining in Bangalore, I'll need to search for current weather information. Let me do that for you using the available search tool.\", 'type': 'text'}, {'id': 'toolu_01FGkJ9idvsHXBoxfEngJJBB', 'input': {'query': 'current weather in Bangalore India'}, 'name': 'tavily_search_results_json', 'type': 'tool_use'}]\n",
            "Tool Calls:\n",
            "  tavily_search_results_json (toolu_01FGkJ9idvsHXBoxfEngJJBB)\n",
            " Call ID: toolu_01FGkJ9idvsHXBoxfEngJJBB\n",
            "  Args:\n",
            "    query: current weather in Bangalore India\n"
          ]
        }
      ],
      "source": [
        "result = graph.invoke({'messages': ['Is it raining in bangalore?']})\n",
        "\n",
        "for m in result['messages']:\n",
        "  m.pretty_print()"
      ]
    },
    {
      "cell_type": "markdown",
      "metadata": {
        "id": "qf6ewOj796hD"
      },
      "source": [
        "## Router"
      ]
    },
    {
      "cell_type": "code",
      "execution_count": 153,
      "metadata": {
        "colab": {
          "base_uri": "https://localhost:8080/",
          "height": 350
        },
        "id": "bC_K5YRRg78U",
        "outputId": "e184437f-b068-445a-a845-b8bb319adee7"
      },
      "outputs": [
        {
          "data": {
            "image/png": "[encoded data removed]",
            "text/plain": [
              "<IPython.core.display.Image object>"
            ]
          },
          "metadata": {},
          "output_type": "display_data"
        }
      ],
      "source": [
        "from langgraph.graph import StateGraph, START, END\n",
        "from langgraph.graph import MessagesState\n",
        "from langgraph.prebuilt import tools_condition, ToolNode\n",
        "\n",
        "builder = StateGraph(MessagesState)\n",
        "\n",
        "def assistant(state: MessagesState):\n",
        "  return {'messages': llm_with_tools.invoke(state['messages'])}\n",
        "\n",
        "\n",
        "builder.add_node('assistant', assistant)\n",
        "builder.add_node('tools', ToolNode(tools))\n",
        "\n",
        "builder.add_edge(START, 'assistant')\n",
        "builder.add_conditional_edges('assistant',\n",
        "                              # if latest message from assistant is a tool call -> tools condition routes to tools node\n",
        "                              # if latest message from assistant is not a tool call -> routes to END\n",
        "                              tools_condition)\n",
        "\n",
        "builder.add_edge('tools', END)\n",
        "\n",
        "graph = builder.compile()\n",
        "\n",
        "\n",
        "\n",
        "from IPython.display import Image, display\n",
        "\n",
        "try:\n",
        "    display(Image(graph.get_graph().draw_mermaid_png()))\n",
        "except Exception:\n",
        "    # This requires some extra dependencies and is optional\n",
        "    pass"
      ]
    },
    {
      "cell_type": "code",
      "execution_count": 155,
      "metadata": {
        "colab": {
          "base_uri": "https://localhost:8080/"
        },
        "id": "NKvDLfajuWt8",
        "outputId": "506b3413-5a52-4e4e-c3c4-9d2b23fef981"
      },
      "outputs": [
        {
          "name": "stdout",
          "output_type": "stream",
          "text": [
            "================================\u001b[1m Human Message \u001b[0m=================================\n",
            "\n",
            "Search how is the weather today in Bangalore?\n",
            "==================================\u001b[1m Ai Message \u001b[0m==================================\n",
            "\n",
            "[{'text': \"Certainly! I'll use the search function to find current information about the weather in Bangalore for you.\", 'type': 'text'}, {'id': 'toolu_01DMzRxj7rk9noS9YV9zjSFd', 'input': {'query': 'current weather in Bangalore today'}, 'name': 'tavily_search_results_json', 'type': 'tool_use'}]\n",
            "Tool Calls:\n",
            "  tavily_search_results_json (toolu_01DMzRxj7rk9noS9YV9zjSFd)\n",
            " Call ID: toolu_01DMzRxj7rk9noS9YV9zjSFd\n",
            "  Args:\n",
            "    query: current weather in Bangalore today\n",
            "=================================\u001b[1m Tool Message \u001b[0m=================================\n",
            "Name: tavily_search_results_json\n",
            "\n",
            "[{\"url\": \"https://www.weatherapi.com/\", \"content\": \"{'location': {'name': 'Bangalore', 'region': 'Karnataka', 'country': 'India', 'lat': 12.9833, 'lon': 77.5833, 'tz_id': 'Asia/Kolkata', 'localtime_epoch': 1737213981, 'localtime': '2025-01-18 20:56'}, 'current': {'last_updated_epoch': 1737213300, 'last_updated': '2025-01-18 20:45', 'temp_c': 22.3, 'temp_f': 72.1, 'is_day': 0, 'condition': {'text': 'Partly cloudy', 'icon': '//cdn.weatherapi.com/weather/64x64/night/116.png', 'code': 1003}, 'wind_mph': 10.7, 'wind_kph': 17.3, 'wind_degree': 95, 'wind_dir': 'E', 'pressure_mb': 1017.0, 'pressure_in': 30.03, 'precip_mm': 0.0, 'precip_in': 0.0, 'humidity': 69, 'cloud': 50, 'feelslike_c': 24.7, 'feelslike_f': 76.4, 'windchill_c': 21.8, 'windchill_f': 71.2, 'heatindex_c': 24.5, 'heatindex_f': 76.1, 'dewpoint_c': 16.0, 'dewpoint_f': 60.8, 'vis_km': 6.0, 'vis_miles': 3.0, 'uv': 0.0, 'gust_mph': 14.7, 'gust_kph': 23.6}}\"}, {\"url\": \"https://www.msn.com/en-in/news/India/bangalore-weather-and-aqi-today-warm-start-at-1594-c-check-weather-forecast-for-january-18-2025/ar-AA1xp68l\", \"content\": \"The temperature in Bangalore today, on January 18, 2025, is 22.84 °C. The day's forecast indicates a minimum and maximum temperature of 15.94 °C and 26.59 °C, respectively. The relative\"}]\n"
          ]
        }
      ],
      "source": [
        "result = graph.invoke({'messages': ['Search how is the weather today in Bangalore?']})\n",
        "\n",
        "for m in result['messages']:\n",
        "  m.pretty_print()"
      ]
    },
    {
      "cell_type": "code",
      "execution_count": 164,
      "metadata": {
        "colab": {
          "base_uri": "https://localhost:8080/"
        },
        "id": "N_wE6RiVBwkZ",
        "outputId": "d8dfbc4c-7832-4ada-be3a-5ab668ed994f"
      },
      "outputs": [
        {
          "name": "stdout",
          "output_type": "stream",
          "text": [
            "https://www.weatherapi.com/\n",
            "{'location': {'name': 'Bangalore', 'region': 'Karnataka', 'country': 'India', 'lat': 12.9833, 'lon': 77.5833, 'tz_id': 'Asia/Kolkata', 'localtime_epoch': 1737213981, 'localtime': '2025-01-18 20:56'}, 'current': {'last_updated_epoch': 1737213300, 'last_updated': '2025-01-18 20:45', 'temp_c': 22.3, 'temp_f': 72.1, 'is_day': 0, 'condition': {'text': 'Partly cloudy', 'icon': '//cdn.weatherapi.com/weather/64x64/night/116.png', 'code': 1003}, 'wind_mph': 10.7, 'wind_kph': 17.3, 'wind_degree': 95, 'wind_dir': 'E', 'pressure_mb': 1017.0, 'pressure_in': 30.03, 'precip_mm': 0.0, 'precip_in': 0.0, 'humidity': 69, 'cloud': 50, 'feelslike_c': 24.7, 'feelslike_f': 76.4, 'windchill_c': 21.8, 'windchill_f': 71.2, 'heatindex_c': 24.5, 'heatindex_f': 76.1, 'dewpoint_c': 16.0, 'dewpoint_f': 60.8, 'vis_km': 6.0, 'vis_miles': 3.0, 'uv': 0.0, 'gust_mph': 14.7, 'gust_kph': 23.6}}\n",
            "\n",
            "https://www.msn.com/en-in/news/India/bangalore-weather-and-aqi-today-warm-start-at-1594-c-check-weather-forecast-for-january-18-2025/ar-AA1xp68l\n",
            "The temperature in Bangalore today, on January 18, 2025, is 22.84 °C. The day's forecast indicates a minimum and maximum temperature of 15.94 °C and 26.59 °C, respectively. The relative\n",
            "\n"
          ]
        }
      ],
      "source": [
        "import json\n",
        "\n",
        "tool_output = json.loads(result['messages'][-1].content)\n",
        "\n",
        "for m in tool_output:\n",
        "  print(m['url'])\n",
        "  print(m['content'])\n",
        "  print()"
      ]
    },
    {
      "cell_type": "code",
      "execution_count": 166,
      "metadata": {
        "id": "0JzLk2RmxR1r"
      },
      "outputs": [],
      "source": [
        "result = graph.invoke({'messages': ['What is 9 multiplied by 5']})"
      ]
    },
    {
      "cell_type": "code",
      "execution_count": 167,
      "metadata": {
        "colab": {
          "base_uri": "https://localhost:8080/"
        },
        "id": "Vps_V14pE9dI",
        "outputId": "8cc1a8a1-82a2-4ab1-862b-e158e99e5551"
      },
      "outputs": [
        {
          "name": "stdout",
          "output_type": "stream",
          "text": [
            "================================\u001b[1m Human Message \u001b[0m=================================\n",
            "\n",
            "What is 9 multiplied by 5\n",
            "==================================\u001b[1m Ai Message \u001b[0m==================================\n",
            "\n",
            "To answer this question, we don't need to use any external tools or search engines. This is a simple arithmetic calculation that I can perform directly.\n",
            "\n",
            "9 multiplied by 5 is equal to 45.\n",
            "\n",
            "This calculation can be done as follows:\n",
            "9 x 5 = 45\n",
            "\n",
            "Or you can think of it as adding 9 five times:\n",
            "9 + 9 + 9 + 9 + 9 = 45\n",
            "\n",
            "Or as adding 5 nine times:\n",
            "5 + 5 + 5 + 5 + 5 + 5 + 5 + 5 + 5 = 45\n",
            "\n",
            "In any case, the result is the same: 45.\n",
            "\n",
            "Is there anything else you'd like to know about this multiplication or any other mathematical questions I can help you with?\n"
          ]
        }
      ],
      "source": [
        "for m in result['messages']:\n",
        "  m.pretty_print()"
      ]
    },
    {
      "cell_type": "markdown",
      "metadata": {
        "id": "OTIsvAV_FKpK"
      },
      "source": [
        "## TOOL LLM LOOP"
      ]
    },
    {
      "cell_type": "code",
      "execution_count": 168,
      "metadata": {
        "colab": {
          "base_uri": "https://localhost:8080/",
          "height": 350
        },
        "id": "9_25s_mKJvDK",
        "outputId": "3d9e5d29-bf7b-45f0-c816-db089a962f1e"
      },
      "outputs": [
        {
          "data": {
            "image/png": "[encoded data removed]",
            "text/plain": [
              "<IPython.core.display.Image object>"
            ]
          },
          "metadata": {},
          "output_type": "display_data"
        }
      ],
      "source": [
        "from langgraph.graph import StateGraph, START, END\n",
        "from langgraph.graph import MessagesState\n",
        "from langgraph.prebuilt import tools_condition, ToolNode\n",
        "\n",
        "builder = StateGraph(MessagesState)\n",
        "\n",
        "def assistant(state: MessagesState):\n",
        "  return {'messages': llm_with_tools.invoke(state['messages'])}\n",
        "\n",
        "\n",
        "builder.add_node('assistant', assistant)\n",
        "builder.add_node('tools', ToolNode(tools))\n",
        "\n",
        "builder.add_edge(START, 'assistant')\n",
        "builder.add_conditional_edges('assistant',\n",
        "                              # if latest message from assistant is a tool call -> tools condition routes to tools\n",
        "                              # if latest message from assistant is not a tool call -> routes to END\n",
        "                              tools_condition)\n",
        "\n",
        "builder.add_edge('tools', \"assistant\")\n",
        "builder.add_edge('tools', END)\n",
        "\n",
        "graph = builder.compile()\n",
        "\n",
        "\n",
        "\n",
        "from IPython.display import Image, display\n",
        "\n",
        "try:\n",
        "    display(Image(graph.get_graph().draw_mermaid_png()))\n",
        "except Exception:\n",
        "    # This requires some extra dependencies and is optional\n",
        "    pass"
      ]
    },
    {
      "cell_type": "code",
      "execution_count": 169,
      "metadata": {
        "id": "u3FqruBG0UG2"
      },
      "outputs": [],
      "source": [
        "result = graph.invoke({'messages': ['Search how is the weather today in Bangalore? Collect temperature, condition, humidity. If temperature greater than 30 then call it a hot day']})"
      ]
    },
    {
      "cell_type": "code",
      "execution_count": 170,
      "metadata": {
        "colab": {
          "base_uri": "https://localhost:8080/"
        },
        "id": "lIS9al1c0dN6",
        "outputId": "cdf1d48b-d24a-43f7-8c50-4ff82f9cf676"
      },
      "outputs": [
        {
          "name": "stdout",
          "output_type": "stream",
          "text": [
            "================================\u001b[1m Human Message \u001b[0m=================================\n",
            "\n",
            "Search how is the weather today in Bangalore? Collect temperature, condition, humidity. If temperature greater than 30 then call it a hot day\n",
            "==================================\u001b[1m Ai Message \u001b[0m==================================\n",
            "\n",
            "[{'text': \"Certainly! I'll search for the current weather information in Bangalore using the available search tool. Then, I'll analyze the results to provide you with the requested information and determine if it's a hot day based on your criteria.\", 'type': 'text'}, {'id': 'toolu_017b6rsymDkLsJkwxJyyAPCg', 'input': {'query': 'current weather Bangalore temperature condition humidity'}, 'name': 'tavily_search_results_json', 'type': 'tool_use'}]\n",
            "Tool Calls:\n",
            "  tavily_search_results_json (toolu_017b6rsymDkLsJkwxJyyAPCg)\n",
            " Call ID: toolu_017b6rsymDkLsJkwxJyyAPCg\n",
            "  Args:\n",
            "    query: current weather Bangalore temperature condition humidity\n",
            "=================================\u001b[1m Tool Message \u001b[0m=================================\n",
            "Name: tavily_search_results_json\n",
            "\n",
            "[{\"url\": \"https://www.weatherapi.com/\", \"content\": \"{'location': {'name': 'Bangalore', 'region': 'Karnataka', 'country': 'India', 'lat': 12.9833, 'lon': 77.5833, 'tz_id': 'Asia/Kolkata', 'localtime_epoch': 1737214942, 'localtime': '2025-01-18 21:12'}, 'current': {'last_updated_epoch': 1737214200, 'last_updated': '2025-01-18 21:00', 'temp_c': 22.0, 'temp_f': 71.6, 'is_day': 0, 'condition': {'text': 'Partly cloudy', 'icon': '//cdn.weatherapi.com/weather/64x64/night/116.png', 'code': 1003}, 'wind_mph': 11.0, 'wind_kph': 17.6, 'wind_degree': 92, 'wind_dir': 'E', 'pressure_mb': 1018.0, 'pressure_in': 30.06, 'precip_mm': 0.0, 'precip_in': 0.0, 'humidity': 69, 'cloud': 50, 'feelslike_c': 24.6, 'feelslike_f': 76.2, 'windchill_c': 21.4, 'windchill_f': 70.5, 'heatindex_c': 24.4, 'heatindex_f': 75.9, 'dewpoint_c': 16.2, 'dewpoint_f': 61.2, 'vis_km': 6.0, 'vis_miles': 3.0, 'uv': 0.0, 'gust_mph': 14.6, 'gust_kph': 23.5}}\"}, {\"url\": \"https://www.aqi.in/weather/id/india/karnataka/bangalore\", \"content\": \"Current Bangalore weather condition is Patchy rain nearby with real-time temperature (26°C), humidity 55%, wind 20.2km/h, pressure (1010mb), UV (2.7), visibility (10km) in Karnataka. ... Rank City Temperature Weather Condition Humidity UV Wind Speed & Dir. 1. Khed, India. 37 °C.\"}]\n",
            "==================================\u001b[1m Ai Message \u001b[0m==================================\n",
            "\n",
            "Based on the search results, I can provide you with the current weather information for Bangalore:\n",
            "\n",
            "1. Temperature: 22°C (71.6°F)\n",
            "2. Condition: Partly cloudy\n",
            "3. Humidity: 69%\n",
            "\n",
            "It's worth noting that there's a slight discrepancy in the temperature and humidity between the two sources. I've used the more detailed and recent data from the first source (WeatherAPI) for this report.\n",
            "\n",
            "Regarding your question about whether it's a hot day: Since the current temperature (22°C) is below 30°C, it would not be considered a hot day based on the criteria you provided. The temperature is actually quite pleasant for Bangalore.\n",
            "\n",
            "It's important to note that weather conditions can change throughout the day. The current information is for the evening time in Bangalore (around 21:00 or 9:00 PM local time), which explains the cooler temperature. Daytime temperatures in Bangalore can be warmer, but based on the current data, it's not a hot day by your definition.\n"
          ]
        }
      ],
      "source": [
        "from pprint import pprint\n",
        "\n",
        "\n",
        "for m in result['messages']:\n",
        "  m.pretty_print()"
      ]
    }
  ],
  "metadata": {
    "colab": {
      "provenance": []
    },
    "kernelspec": {
      "display_name": "Python 3",
      "name": "python3"
    },
    "language_info": {
      "name": "python"
    }
  },
  "nbformat": 4,
  "nbformat_minor": 0
}
